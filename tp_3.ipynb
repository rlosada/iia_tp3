{
 "cells": [
  {
   "cell_type": "markdown",
   "id": "c607b765",
   "metadata": {},
   "source": [
    "# TP 3"
   ]
  }
 ],
 "metadata": {
  "language_info": {
   "name": "python"
  }
 },
 "nbformat": 4,
 "nbformat_minor": 5
}
